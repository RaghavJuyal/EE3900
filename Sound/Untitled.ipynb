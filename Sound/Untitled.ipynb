{
 "cells": [
  {
   "cell_type": "code",
   "execution_count": 1,
   "id": "82e81006",
   "metadata": {},
   "outputs": [],
   "source": [
    "import numpy as np"
   ]
  },
  {
   "cell_type": "code",
   "execution_count": 3,
   "id": "89352771",
   "metadata": {},
   "outputs": [],
   "source": [
    "x = np.array([2,-1])"
   ]
  },
  {
   "cell_type": "code",
   "execution_count": 4,
   "id": "63ea4c9f",
   "metadata": {},
   "outputs": [],
   "source": [
    "h = np.array([-1,2,1])"
   ]
  },
  {
   "cell_type": "code",
   "execution_count": 5,
   "id": "ce507f06",
   "metadata": {},
   "outputs": [
    {
     "data": {
      "text/plain": [
       "array([-2,  5,  0, -1])"
      ]
     },
     "execution_count": 5,
     "metadata": {},
     "output_type": "execute_result"
    }
   ],
   "source": [
    "np.convolve(x,h)"
   ]
  },
  {
   "cell_type": "code",
   "execution_count": null,
   "id": "f6636b04",
   "metadata": {},
   "outputs": [],
   "source": []
  }
 ],
 "metadata": {
  "kernelspec": {
   "display_name": "Python 3 (ipykernel)",
   "language": "python",
   "name": "python3"
  },
  "language_info": {
   "codemirror_mode": {
    "name": "ipython",
    "version": 3
   },
   "file_extension": ".py",
   "mimetype": "text/x-python",
   "name": "python",
   "nbconvert_exporter": "python",
   "pygments_lexer": "ipython3",
   "version": "3.10.4"
  }
 },
 "nbformat": 4,
 "nbformat_minor": 5
}
